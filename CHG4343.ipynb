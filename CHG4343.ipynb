{
 "cells": [
  {
   "attachments": {},
   "cell_type": "markdown",
   "metadata": {},
   "source": [
    "Reorganize files "
   ]
  },
  {
   "cell_type": "code",
   "execution_count": 18,
   "metadata": {},
   "outputs": [],
   "source": [
    "import os\n",
    "from pathlib import Path\n",
    "import shutil"
   ]
  },
  {
   "cell_type": "code",
   "execution_count": 4,
   "metadata": {},
   "outputs": [],
   "source": [
    "# Create a path object\n",
    "chg4343dir = Path(\"/Users/granch/uOttawa - OneDrive/CHG4343 - Computer aided design\")      "
   ]
  },
  {
   "cell_type": "code",
   "execution_count": null,
   "metadata": {},
   "outputs": [],
   "source": [
    "for dir in chg4343dir.iterdir():\n",
    "    if ((Path.is_dir(dir)) and ('Lecture' in dir.name)):\n",
    "        print(dir.name)\n",
    "        for file in dir.iterdir(): \n",
    "            print(\"\\t\"+file.name)"
   ]
  },
  {
   "cell_type": "code",
   "execution_count": 20,
   "metadata": {},
   "outputs": [],
   "source": [
    "for dir in chg4343dir.iterdir():\n",
    "    if Path.is_dir(dir) and ('Lecture' in dir.name):\n",
    "        for file in dir.iterdir(): \n",
    "            if \"out\" in file.name or \".idea\" in file.name or file.suffix == \".iml\":\n",
    "                if Path.is_dir(file) : shutil.rmtree(file)\n",
    "                else : os.remove(file)\n",
    "\n",
    "        \n",
    "        \n"
   ]
  },
  {
   "cell_type": "code",
   "execution_count": null,
   "metadata": {},
   "outputs": [],
   "source": []
  }
 ],
 "metadata": {
  "kernelspec": {
   "display_name": "pypds",
   "language": "python",
   "name": "python3"
  },
  "language_info": {
   "codemirror_mode": {
    "name": "ipython",
    "version": 3
   },
   "file_extension": ".py",
   "mimetype": "text/x-python",
   "name": "python",
   "nbconvert_exporter": "python",
   "pygments_lexer": "ipython3",
   "version": "3.10.6 (main, Oct 24 2022, 11:04:34) [Clang 12.0.0 ]"
  },
  "orig_nbformat": 4,
  "vscode": {
   "interpreter": {
    "hash": "71be0a0408d81e759fe678086df8ac5a8564605cfe2b3df8608149f5e4d8b506"
   }
  }
 },
 "nbformat": 4,
 "nbformat_minor": 2
}
