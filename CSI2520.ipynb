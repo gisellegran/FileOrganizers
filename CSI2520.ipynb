{
 "cells": [
  {
   "cell_type": "code",
   "execution_count": 2,
   "metadata": {},
   "outputs": [],
   "source": [
    "import os\n",
    "from pathlib import Path\n",
    "import shutil\n",
    "import re\n",
    "import utils"
   ]
  },
  {
   "cell_type": "code",
   "execution_count": 2,
   "metadata": {},
   "outputs": [],
   "source": [
    "#Handle labs\n",
    "#define variables\n",
    "root = \"/Users/granch/Library/CloudStorage/OneDrive-SharedLibraries-uOttawa-OneDrive/CSI2520 - Paradigmes de Programmation/Laboratoires CSI2520\"\n",
    "sub_dir_pfx = \"Lab\"\n",
    "sub_dir_sfx = \"CSI2520\" \n",
    "n=11\n",
    "\n",
    "#create folders for labs\n",
    "utils.create_sub_dirs(n, root, sub_dir_pfx, sub_dir_sfx)\n",
    "\n",
    "r_search = '(?:CSI2520_Lab)(\\d+)'\n",
    "utils.sort_by_num(root, r_search, sub_dir_pfx, sub_dir_sfx)"
   ]
  },
  {
   "attachments": {},
   "cell_type": "markdown",
   "metadata": {},
   "source": [
    "Handle Tutorials"
   ]
  },
  {
   "cell_type": "code",
   "execution_count": 1,
   "metadata": {},
   "outputs": [],
   "source": [
    "#définire variables\n",
    "root = \"/Users/granch/Library/CloudStorage/OneDrive-SharedLibraries-uOttawa-OneDrive/CSI2520 - Paradigmes de Programmation/Tutoriels CSI2520\"\n",
    "sub_dir_sfx = \"CSI2520\""
   ]
  },
  {
   "cell_type": "code",
   "execution_count": 3,
   "metadata": {},
   "outputs": [],
   "source": [
    "#create folders for tutorials\n",
    "sub_dir_pfx = \"Tutoriels Go\"\n",
    "n=3\n",
    "utils.create_sub_dirs(n, root, sub_dir_pfx, sub_dir_sfx)\n",
    "\n",
    "sub_dir_pfx = \"Tutoriels Scheme\"\n",
    "utils.create_sub_dirs(n, root, sub_dir_pfx, sub_dir_sfx)\n",
    "\n",
    "sub_dir_pfx = \"Tutoriels Prolog\"\n",
    "n=5\n",
    "utils.create_sub_dirs(n, root, sub_dir_pfx, sub_dir_sfx)\n"
   ]
  },
  {
   "cell_type": "code",
   "execution_count": 4,
   "metadata": {},
   "outputs": [],
   "source": [
    "#put go tutorials away\n",
    "r_search = '(?:tutorialGo)(\\d)'\n",
    "sub_dir_pfx = \"Tutoriels Go\"\n",
    "utils.sort_by_num(root, r_search, sub_dir_pfx, sub_dir_sfx)"
   ]
  },
  {
   "cell_type": "code",
   "execution_count": 13,
   "metadata": {},
   "outputs": [],
   "source": [
    "#put scheme tutorials away\n",
    "sub_dir_pfx = \"Tutoriels Scheme\"\n",
    "r_search = '(?:tutorialScheme|scheme_tut)(\\d)'\n",
    "utils.sort_by_num(root, r_search, sub_dir_pfx, sub_dir_sfx)"
   ]
  },
  {
   "cell_type": "code",
   "execution_count": 15,
   "metadata": {},
   "outputs": [],
   "source": [
    "#put scheme tutorials away\n",
    "sub_dir_pfx = \"Tutoriels Prolog\"\n",
    "r_search = '(?:Tutorat|prolog_tut|Tutoriel)(\\d)'\n",
    "utils.sort_by_num(root, r_search, sub_dir_pfx, sub_dir_sfx)"
   ]
  }
 ],
 "metadata": {
  "kernelspec": {
   "display_name": "pypds",
   "language": "python",
   "name": "python3"
  },
  "language_info": {
   "codemirror_mode": {
    "name": "ipython",
    "version": 3
   },
   "file_extension": ".py",
   "mimetype": "text/x-python",
   "name": "python",
   "nbconvert_exporter": "python",
   "pygments_lexer": "ipython3",
   "version": "3.10.6"
  },
  "orig_nbformat": 4,
  "vscode": {
   "interpreter": {
    "hash": "71be0a0408d81e759fe678086df8ac5a8564605cfe2b3df8608149f5e4d8b506"
   }
  }
 },
 "nbformat": 4,
 "nbformat_minor": 2
}
