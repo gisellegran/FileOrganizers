{
 "cells": [
  {
   "attachments": {},
   "cell_type": "markdown",
   "metadata": {},
   "source": [
    "The goal is to change the format of the lecture file titles"
   ]
  },
  {
   "cell_type": "code",
   "execution_count": 12,
   "metadata": {},
   "outputs": [],
   "source": [
    "import os\n",
    "from pathlib import Path\n",
    "import shutil\n",
    "import regex as re"
   ]
  },
  {
   "cell_type": "code",
   "execution_count": 2,
   "metadata": {},
   "outputs": [],
   "source": [
    "# Create a path object\n",
    "#chg3127 = \"/Users/granch/Library/CloudStorage/OneDrive-SharedLibraries-uOttawa-OneDrive/3rd Year/3.2 - Summer 2021/CHG3127 - Reactions Engineering\"    \n",
    "chg3127 = \"/Users/granch/Library/CloudStorage/OneDrive-SharedLibraries-uOttawa-OneDrive/3rd Year/3.2 - Summer 2021/CHG3127 - Reactions Engineering/CHG3127 - Powerpoints/-Week 01 Central/Week 01 Files\""
   ]
  },
  {
   "cell_type": "code",
   "execution_count": 16,
   "metadata": {},
   "outputs": [],
   "source": [
    "#get list of files from directory\n",
    "def files(path):\n",
    "    for file in os.listdir(path):\n",
    "        if os.path.isfile(os.path.join(path, file)):\n",
    "            yield file"
   ]
  },
  {
   "cell_type": "code",
   "execution_count": 79,
   "metadata": {},
   "outputs": [],
   "source": [
    "#rename lecture slide files by reconstructing existing file name into format : CHG3127 A1 title\n",
    "def rename_file(file):\n",
    "    \n",
    "    m = re.search(\"(?:Section )([A-Z])\", file)\n",
    "    if m: \n",
    "        section = m.groups()[0]\n",
    "    else:\n",
    "        return\n",
    "    m = re.search(\"Parts?.*(?= 2021)\",file)\n",
    "    if m: \n",
    "        parts = re.findall(\"\\d\",m.group())\n",
    "    else: \n",
    "        return\n",
    "\n",
    "    m = re.search(\"(?:and \\d )(.*)\", file)\n",
    "    if m:\n",
    "        name = m.groups()[0]\n",
    "    else:\n",
    "        return\n",
    "    print(file)\n",
    "    print(parts) \n",
    "    print(name)\n",
    "    filename = \"CHG3127 \"\n",
    "    if len(parts) > 1:\n",
    "        filename = filename.join((section+str(part)+\",\") for part in parts[:-1])\n",
    "        filename += \"and \"\n",
    "        \n",
    "    filename += (section+str(parts[-1]))\n",
    "    \n",
    "\n",
    "    print(filename)\n"
   ]
  },
  {
   "cell_type": "code",
   "execution_count": 78,
   "metadata": {},
   "outputs": [
    {
     "name": "stdout",
     "output_type": "stream",
     "text": [
      "parts\n",
      "CHG 3127 Online Learning - Section A - Parts 3 and 4 (Design Steps) 2021-05-06.pdf\n",
      "['3', '4']\n",
      "(Design Steps) 2021-05-06.pdf\n",
      "and 4\n",
      "parts\n",
      "CHG 3127 Online Learning - Section A - Parts 1 and 2 2021-05-04.pdf\n",
      "['1', '2']\n",
      "2021-05-04.pdf\n",
      "and 2\n",
      "parts\n",
      "CHG 3127 Online Learning - Section A - Parts 1, 2, 3 and 4 2021-05-06.pdf\n",
      "['1', '2', '3', '4']\n",
      "2021-05-06.pdf\n",
      "1,CHG3127 A 2,and 4\n"
     ]
    }
   ],
   "source": [
    "for file in files(chg3127):\n",
    "    rename_file(file)"
   ]
  },
  {
   "cell_type": "code",
   "execution_count": null,
   "metadata": {},
   "outputs": [],
   "source": [
    "#put all videos in one folder (incomplete)\n",
    "course_content = Path('/Users/granch/Library/CloudStorage/OneDrive-SharedLibraries-uOttawa-OneDrive/3rd Year/3.2 - Summer 2021/CHG3326 - Phase Equilibrium/Course content CHG3326')\n",
    "for file in os.listdir(path):\n",
    "    if file.endswith(\".mp4\"):"
   ]
  }
 ],
 "metadata": {
  "kernelspec": {
   "display_name": "pypds",
   "language": "python",
   "name": "python3"
  },
  "language_info": {
   "codemirror_mode": {
    "name": "ipython",
    "version": 3
   },
   "file_extension": ".py",
   "mimetype": "text/x-python",
   "name": "python",
   "nbconvert_exporter": "python",
   "pygments_lexer": "ipython3",
   "version": "3.10.6"
  },
  "orig_nbformat": 4,
  "vscode": {
   "interpreter": {
    "hash": "71be0a0408d81e759fe678086df8ac5a8564605cfe2b3df8608149f5e4d8b506"
   }
  }
 },
 "nbformat": 4,
 "nbformat_minor": 2
}
