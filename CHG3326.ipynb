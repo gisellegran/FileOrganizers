{
 "cells": [
  {
   "cell_type": "code",
   "execution_count": 1,
   "metadata": {},
   "outputs": [],
   "source": [
    "import os\n",
    "from pathlib import Path\n",
    "import re\n",
    "import utils"
   ]
  },
  {
   "cell_type": "code",
   "execution_count": null,
   "metadata": {},
   "outputs": [],
   "source": [
    "#sort dgds\n",
    "#root dgd folder\n",
    "root = \"/Users/granch/Library/CloudStorage/OneDrive-SharedLibraries-uOttawa-OneDrive/3rd Year/3.2 - Summer 2021/CHG3326 - Phase Equilibrium/CHG3326 - DGDs\"    \n",
    "r_search = '(?:3326_)?[a-zA-Z_]*(\\d+)'\n",
    "sub_dir_pfx = \"CHG3326 - DGD \"\n",
    "n=10\n",
    "utils.create_sub_dirs(n,root,sub_dir_pfx)\n",
    "utils.sort_by_num(root, r_search, sub_dir_pfx)"
   ]
  },
  {
   "cell_type": "code",
   "execution_count": 83,
   "metadata": {},
   "outputs": [],
   "source": [
    "#sort quizzes\n",
    "root = '/Users/granch/Library/CloudStorage/OneDrive-SharedLibraries-uOttawa-OneDrive/3rd Year/3.2 - Summer 2021/CHG3326 - Phase Equilibrium/CHG3326 - Quizes'\n",
    "r_search = '(?:.*3326_)?[a-zA-Z_]*(\\d+)'\n",
    "sub_dir_pfx = \"CHG3326 Quiz \"\n",
    "utils.create_sub_dirs(5,root,sub_dir_pfx)\n",
    "utils.sort_by_num(root, r_search, sub_dir_pfx)"
   ]
  },
  {
   "cell_type": "code",
   "execution_count": null,
   "metadata": {},
   "outputs": [],
   "source": [
    "#put all videos in one folder\n",
    "course_content = Path('/Users/granch/Library/CloudStorage/OneDrive-SharedLibraries-uOttawa-OneDrive/3rd Year/3.2 - Summer 2021/CHG3326 - Phase Equilibrium/Course content CHG3326')\n",
    "for file in os.listdir(path):\n",
    "    if file.endswith(\".txt\"):"
   ]
  }
 ],
 "metadata": {
  "kernelspec": {
   "display_name": "pypds",
   "language": "python",
   "name": "python3"
  },
  "language_info": {
   "codemirror_mode": {
    "name": "ipython",
    "version": 3
   },
   "file_extension": ".py",
   "mimetype": "text/x-python",
   "name": "python",
   "nbconvert_exporter": "python",
   "pygments_lexer": "ipython3",
   "version": "3.10.6"
  },
  "orig_nbformat": 4,
  "vscode": {
   "interpreter": {
    "hash": "71be0a0408d81e759fe678086df8ac5a8564605cfe2b3df8608149f5e4d8b506"
   }
  }
 },
 "nbformat": 4,
 "nbformat_minor": 2
}
