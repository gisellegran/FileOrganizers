{
 "cells": [
  {
   "cell_type": "code",
   "execution_count": 29,
   "metadata": {},
   "outputs": [],
   "source": [
    "import os\n",
    "from pathlib import Path\n",
    "import shutil\n",
    "import re"
   ]
  },
  {
   "cell_type": "code",
   "execution_count": 16,
   "metadata": {},
   "outputs": [],
   "source": [
    "# Create a path object\n",
    "chg3326_dgd = \"/Users/granch/Library/CloudStorage/OneDrive-SharedLibraries-uOttawa-OneDrive/3rd Year/3.2 - Summer 2021/CHG3326 - Phase Equilibrium/CHG3326 - DGDs\"    "
   ]
  },
  {
   "cell_type": "code",
   "execution_count": 70,
   "metadata": {},
   "outputs": [],
   "source": [
    "#create folders for the DGDs\n",
    "def create_sub_dirs(n,root,sub_dir_pfx):\n",
    "    for x in range(n):\n",
    "        directory = sub_dir_pfx\n",
    "        if len(str(x+1)) == 1 :\n",
    "                directory += '0'\n",
    "        directory += str(x+1)\n",
    "        path = os.path.join(root, directory)\n",
    "        try: \n",
    "            os.mkdir(path)\n",
    "        except:\n",
    "            pass\n"
   ]
  },
  {
   "cell_type": "code",
   "execution_count": 82,
   "metadata": {},
   "outputs": [],
   "source": [
    "#move files based on number in the file name\n",
    "def files(path):\n",
    "    for file in os.listdir(path):\n",
    "        if os.path.isfile(os.path.join(path, file)):\n",
    "            yield file\n",
    "\n",
    "\n",
    "\n",
    "def sort_by_num(root, r_search, sub_dir_pfx):\n",
    "    for file in files(root):\n",
    "        m = re.search(r_search, file)\n",
    "        if m:\n",
    "            d = m.groups()[0]\n",
    "            #print(file)\n",
    "            #print(d)\n",
    "        \n",
    "            directory = sub_dir_pfx\n",
    "            if len(str(d)) == 1 :\n",
    "                directory += '0'\n",
    "            directory += str(d)\n",
    "\n",
    "\n",
    "            current_path = os.path.join(root,file)\n",
    "            new_path=os.path.join(root,directory,file)\n",
    "\n",
    "            shutil.move(current_path, new_path)\n",
    "\n"
   ]
  },
  {
   "cell_type": "code",
   "execution_count": null,
   "metadata": {},
   "outputs": [],
   "source": [
    "#sort dgds\n",
    "root = chg3326_dgd\n",
    "r_search = '(?:3326_)?[a-zA-Z_]*(\\d+)'\n",
    "sub_dir_pfx = \"CHG3326 - DGD \"\n",
    "n=10\n",
    "create_sub_dirs(n,root,sub_dir_pfx)\n",
    "sort_by_num(root, r_search, sub_dir_pfx)"
   ]
  },
  {
   "cell_type": "code",
   "execution_count": 83,
   "metadata": {},
   "outputs": [],
   "source": [
    "#sort quizzes\n",
    "root = '/Users/granch/Library/CloudStorage/OneDrive-SharedLibraries-uOttawa-OneDrive/3rd Year/3.2 - Summer 2021/CHG3326 - Phase Equilibrium/CHG3326 - Quizes'\n",
    "r_search = '(?:.*3326_)?[a-zA-Z_]*(\\d+)'\n",
    "sub_dir_pfx = \"CHG3326 Quiz \"\n",
    "create_sub_dirs(5,root,sub_dir_pfx)\n",
    "sort_by_num(root, r_search, sub_dir_pfx)"
   ]
  },
  {
   "cell_type": "code",
   "execution_count": null,
   "metadata": {},
   "outputs": [],
   "source": [
    "#put all videos in one folder\n",
    "course_content = Path('/Users/granch/Library/CloudStorage/OneDrive-SharedLibraries-uOttawa-OneDrive/3rd Year/3.2 - Summer 2021/CHG3326 - Phase Equilibrium/Course content CHG3326')\n",
    "for file in os.listdir(path):\n",
    "    if file.endswith(\".txt\"):"
   ]
  }
 ],
 "metadata": {
  "kernelspec": {
   "display_name": "pypds",
   "language": "python",
   "name": "python3"
  },
  "language_info": {
   "codemirror_mode": {
    "name": "ipython",
    "version": 3
   },
   "file_extension": ".py",
   "mimetype": "text/x-python",
   "name": "python",
   "nbconvert_exporter": "python",
   "pygments_lexer": "ipython3",
   "version": "3.10.6 (main, Oct 24 2022, 11:04:34) [Clang 12.0.0 ]"
  },
  "orig_nbformat": 4,
  "vscode": {
   "interpreter": {
    "hash": "71be0a0408d81e759fe678086df8ac5a8564605cfe2b3df8608149f5e4d8b506"
   }
  }
 },
 "nbformat": 4,
 "nbformat_minor": 2
}
